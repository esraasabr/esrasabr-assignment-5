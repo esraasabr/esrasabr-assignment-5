{
  "cells": [
    {
      "cell_type": "code",
      "execution_count": 1,
      "metadata": {
        "id": "dxDgUF0s6-_7"
      },
      "outputs": [],
      "source": [
        "import numpy as np\n",
        "import pandas as pd"
      ]
    },
    {
      "cell_type": "code",
      "execution_count": 2,
      "metadata": {
        "id": "IG1OcCl76-_9"
      },
      "outputs": [],
      "source": [
        "from collections import Counter\n",
        "# Define the KNN class\n",
        "class KNN:\n",
        "    def __init__(self, k=3, distance_metric='euclidean'):\n",
        "        self.k = k\n",
        "        self.distance_metric = distance_metric\n",
        "        self.X_train = None\n",
        "        self.y_train = None\n",
        "\n",
        "    def fit(self, X, y):\n",
        "        # TODO: Implement the fit method\n",
        "        self.X_train = X\n",
        "        self.y_train = y\n",
        "\n",
        "\n",
        "    def predict(self, X, return_probabilities=False, weighted=False):\n",
        "        # TODO: Implement the predict method\n",
        "      probs = []\n",
        "\n",
        "    # Get unique classes from the training labels\n",
        "      classes = np.unique(self.y_train)\n",
        "\n",
        "      for x in X:\n",
        "        distances = self.compute_distance(self.X_train, x)\n",
        "        nearest_neighbors = np.argsort(distances)[:self.k]\n",
        "        neighbor_labels = self.y_train[nearest_neighbors]\n",
        "        neighbor_labels = neighbor_labels.astype(int)\n",
        "\n",
        "        if return_probabilities:\n",
        "            # Calculate the probability distribution of the neighbors' labels\n",
        "            class_counts = np.bincount(neighbor_labels, minlength=len(classes))\n",
        "            probabilities = class_counts / len(neighbor_labels)  # Normalize to get probabilities\n",
        "            probs.append(probabilities)\n",
        "        else:\n",
        "            # Predict the most common label (majority vote)\n",
        "            predicted_label = np.argmax(np.bincount(neighbor_labels))\n",
        "            probs.append(predicted_label)\n",
        "\n",
        "      return np.array(probs)\n",
        "\n",
        "    def compute_distance(self, X1, X2):\n",
        "        # TODO: Implement distance computation based on self.distance_metric\n",
        "        # Hint: Use numpy operations for efficient computation\n",
        "        if self.distance_metric == 'euclidean':\n",
        "            X2 = np.array(X2).reshape(1, -1)  # Reshape to a 2D array with one row\n",
        "            return np.sqrt(np.sum((X1 - X2) ** 2, axis=1))\n",
        "        elif self.distance_metric == 'manhattan':\n",
        "            return np.sum(np.abs(X1 - X2), axis=1)"
      ]
    },
    {
      "cell_type": "code",
      "execution_count": 8,
      "metadata": {
        "id": "uhEo4FIQ6-_9"
      },
      "outputs": [],
      "source": [
        "# Define data preprocessing function\n",
        "def preprocess_data(train_path, test_path):\n",
        "    train_data = pd.read_csv(train_path)\n",
        "    test_data = pd.read_csv(test_path)\n",
        "\n",
        "    # 1. Handle categorical variables using pandas get_dummies\n",
        "    # 1. Handle Missing Values\n",
        "    # Impute numerical features with the mean\n",
        "    numerical_features = ['CreditScore', 'Age', 'Tenure', 'Balance', 'NumOfProducts', 'EstimatedSalary']\n",
        "    for feature in numerical_features:\n",
        "        train_data.loc[:, feature] = train_data[feature].fillna(train_data[feature].mean())\n",
        "        test_data.loc[:, feature] = test_data[feature].fillna(train_data[feature].mean())\n",
        "\n",
        "        # train_data[feature].fillna(train_data[feature].mean(), inplace=True)\n",
        "        # test_data[feature].fillna(train_data[feature].mean(), inplace=True)  # Use train mean for test\n",
        "\n",
        "    # 2. Feature Scaling\n",
        "    for feature in numerical_features:\n",
        "        mean = train_data[feature].mean()\n",
        "        std = train_data[feature].std()\n",
        "        train_data[feature] = (train_data[feature] - mean) / std\n",
        "        test_data[feature] = (test_data[feature] - mean) / std\n",
        "\n",
        "    # 3. Categorical Variable Encoding\n",
        "    train_data = pd.get_dummies(train_data, columns=['Geography', 'Gender'], drop_first=True)\n",
        "    test_data = pd.get_dummies(test_data, columns=['Geography', 'Gender'], drop_first=True)\n",
        "\n",
        "    # Align columns between train and test (handle missing dummy columns)\n",
        "    train_columns = set(train_data.columns)\n",
        "    test_columns = set(test_data.columns)\n",
        "    missing_cols_train = list(test_columns - train_columns)\n",
        "    missing_cols_test = list(train_columns - test_columns)\n",
        "\n",
        "    for col in missing_cols_train:\n",
        "        train_data[col] = 0\n",
        "\n",
        "    for col in missing_cols_test:\n",
        "        test_data[col] = 0\n",
        "\n",
        "    test_data = test_data[train_data.columns]  # Ensure test has same columns as train\n",
        "\n",
        "    # 4. Feature Selection/Engineering (Example: Correlation-based)\n",
        "    # You can add more sophisticated feature selection/engineering techniques here\n",
        "    numerical_features = train_data.select_dtypes(include=np.number).columns.tolist()\n",
        "    correlations = train_data[numerical_features].corr()['Exited'].abs().sort_values(ascending=False)\n",
        "\n",
        "    selected_features = correlations[correlations > 0.1].index.tolist()  # Select features with correlation > 0.1\n",
        "    selected_features.remove('Exited')  # Remove target variable\n",
        "\n",
        "    X_train = train_data[selected_features].values\n",
        "    y_train = train_data['Exited'].values\n",
        "    X_test = test_data[selected_features].values\n",
        "\n",
        "    return X_train, y_train, X_test\n",
        ""
      ]
    },
    {
      "cell_type": "code",
      "execution_count": 4,
      "metadata": {
        "id": "3T4klQQy6-_9"
      },
      "outputs": [],
      "source": [
        "def cross_validate(X, y, knn, n_splits=5):\n",
        "    # TODO: Implement cross-validation\n",
        "    # Compute ROC AUC scores\n",
        "\n",
        "  fold_size = len(X) // n_splits\n",
        "  scores = []\n",
        "\n",
        "  for i in range(n_splits):\n",
        "      val_indices = range(i * fold_size, (i + 1) * fold_size)\n",
        "      train_indices = list(set(range(len(X))) - set(val_indices))\n",
        "\n",
        "      X_train, X_val = X[train_indices], X[val_indices]\n",
        "      y_train, y_val = y[train_indices], y[val_indices]\n",
        "\n",
        "      knn.fit(X_train, y_train)\n",
        "      predictions = knn.predict(X_val)\n",
        "\n",
        "      # Calculate ROC AUC score\n",
        "      tp = np.sum((predictions == 1) & (y_val == 1))\n",
        "      fp = np.sum((predictions == 1) & (y_val == 0))\n",
        "      tn = np.sum((predictions == 0) & (y_val == 0))\n",
        "      fn = np.sum((predictions == 0) & (y_val == 1))\n",
        "\n",
        "      if tp + fp > 0 and tp + fn > 0:\n",
        "          sensitivity = tp / (tp + fn)\n",
        "          specificity = tn / (tn + fp)\n",
        "          auc = (sensitivity + specificity) / 2\n",
        "          scores.append(auc)\n",
        "\n",
        "\n",
        "  return scores\n"
      ]
    },
    {
      "cell_type": "markdown",
      "source": [],
      "metadata": {
        "id": "mc7HjLS2NNFW"
      }
    },
    {
      "cell_type": "code",
      "execution_count": 9,
      "metadata": {
        "colab": {
          "base_uri": "https://localhost:8080/"
        },
        "id": "lNVQ5u7g6-_-",
        "outputId": "b3cb878c-bc8e-415e-8374-5ed3b3b41cc1"
      },
      "outputs": [
        {
          "output_type": "stream",
          "name": "stdout",
          "text": [
            "Cross-validation scores: [0.7796075568726575, 0.787044701986755, 0.7741632700561654, 0.7830794149189046, 0.7759402528848267]\n",
            "Best k: 15, Best AUC: 0.7903414707092598\n",
            "Best Cross-Validation AUC: 0.7903414707092598\n"
          ]
        }
      ],
      "source": [
        "# Load and preprocess data\n",
        "X, y, X_test = preprocess_data('/content/train copy.csv.zip', '/content/test copy.csv')\n",
        "\n",
        "# Create and evaluate model\n",
        "knn = KNN(k=5, distance_metric='euclidean')\n",
        "\n",
        "# Perform cross-validation\n",
        "cv_scores = cross_validate(X, y, knn)\n",
        "\n",
        "print(\"Cross-validation scores:\", cv_scores)\n",
        "\n",
        "\n",
        "\n",
        "# TODO: hyperparamters tuning\n",
        "best_k = 3\n",
        "best_auc = 0\n",
        "for k in range(1, 21):\n",
        "  knn = KNN(k=k)\n",
        "  cv_scores = cross_validate(X, y, knn)\n",
        "  mean_auc = np.mean(cv_scores)\n",
        "  if mean_auc > best_auc:\n",
        "    best_auc = mean_auc\n",
        "    best_k = k\n",
        "print(f\"Best k: {best_k}, Best AUC: {best_auc}\")\n",
        "print(\"Best Cross-Validation AUC:\", best_auc)\n",
        "\n",
        "\n",
        "# TODO: Train on full dataset with optimal hyperparameters and make predictions on test set\n",
        "knn = KNN(k=best_k)\n",
        "knn.fit(X, y)\n",
        "test_predictions = knn.predict(X_test)\n",
        "\n",
        "# Save test predictions\n",
        "pd.DataFrame({'id': pd.read_csv('/content/test copy.csv')['id'], 'Exited': test_predictions}).to_csv('submissions.csv', index=False)"
      ]
    },
    {
      "cell_type": "markdown",
      "source": [],
      "metadata": {
        "id": "pN2Fw2PzTjfi"
      }
    },
    {
      "cell_type": "markdown",
      "source": [],
      "metadata": {
        "id": "kTkJLOHoTjKq"
      }
    },
    {
      "cell_type": "markdown",
      "source": [],
      "metadata": {
        "id": "wtXxY-XITjWm"
      }
    }
  ],
  "metadata": {
    "kernelspec": {
      "display_name": "cs506",
      "language": "python",
      "name": "python3"
    },
    "language_info": {
      "codemirror_mode": {
        "name": "ipython",
        "version": 3
      },
      "file_extension": ".py",
      "mimetype": "text/x-python",
      "name": "python",
      "nbconvert_exporter": "python",
      "pygments_lexer": "ipython3",
      "version": "3.10.15"
    },
    "colab": {
      "provenance": []
    }
  },
  "nbformat": 4,
  "nbformat_minor": 0
}